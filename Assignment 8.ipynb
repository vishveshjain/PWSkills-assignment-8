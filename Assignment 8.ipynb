{
 "cells": [
  {
   "cell_type": "markdown",
   "id": "9eff90db-340e-4a47-859b-834d5506d9e0",
   "metadata": {},
   "source": [
    "## Q1. You are writing code for a company. The requirement of the company is that you create a python function that will check whether the password entered by the user is correct or not. The function should take the password as input and return the string “Valid Password” if the entered password follows the below-given password guidelines else it should return “Invalid Password”.\n",
    "### Note: 1. The Password should contain at least two uppercase letters and at least two lowercase letters.\n",
    "### 2. The Password should contain at least a number and three special characters.\n",
    "### 3. The length of the password should be 10 characters long."
   ]
  },
  {
   "cell_type": "code",
   "execution_count": 8,
   "id": "93b8a5e3-23d6-4b2b-8ffb-e5560aaa28b9",
   "metadata": {},
   "outputs": [
    {
     "data": {
      "text/plain": [
       "'Valid Password'"
      ]
     },
     "execution_count": 8,
     "metadata": {},
     "output_type": "execute_result"
    }
   ],
   "source": [
    "#password check program\n",
    "from string import punctuation\n",
    "def checkPass(password):\n",
    "    uppercase = 0\n",
    "    lowercase = 0\n",
    "    special_char = 0\n",
    "    number = 0\n",
    "    valid = False\n",
    "    if len(password)>=10:\n",
    "        for i in password:\n",
    "            if i.isupper():\n",
    "                uppercase+=1\n",
    "            if i.islower():\n",
    "                lowercase+=1\n",
    "            if i in punctuation:\n",
    "                special_char+=1\n",
    "            if i.isnumeric():\n",
    "                number+=1\n",
    "        if uppercase>=2 and lowercase>=2 and special_char>=3 and number>=1:\n",
    "            valid=True\n",
    "    else:\n",
    "        valid= False\n",
    "    if valid:\n",
    "        return \"Valid Password\"\n",
    "    else:\n",
    "        return \"Invalid Password\"\n",
    "checkPass(\"$ThisIsSecret$123@\")"
   ]
  },
  {
   "cell_type": "markdown",
   "id": "bd001389-8077-4543-9080-4959d0c4fd12",
   "metadata": {},
   "source": [
    "## Q2. Solve the below-given questions using at least one of the following:\n",
    "## 1. Lambda function\n",
    "## 2. Filter function\n",
    "## 3. Map function\n",
    "## 4. List Comprehension\n",
    "<ul>\n",
    "<li> Check if the string starts with a particular letter.</li>\n",
    "<li> Check if the string is numeric.</li>\n",
    "<li> Sort a list of tuples having fruit names and their quantity. [(\"mango\",99),(\"orange\",80), (\"grapes\", 1000)]</li>\n",
    "<li> Find the squares of numbers from 1 to 10</li>\n",
    "<li> Find the cube root of numbers from 1 to 10</li>\n",
    "<li> Check if a given number is even</li>\n",
    "<li> Filter odd numbers from the given list.</li>\n",
    "[1,2,3,4,5,6,7,8,9,10]\n",
    "<li> Sort a list of integers into positive and negative integers lists.</li>\n",
    "[1,2,3,4,5,6,-1,-2,-3,-4,-5,0]\n",
    "</ul>"
   ]
  },
  {
   "cell_type": "code",
   "execution_count": 4,
   "id": "46477854-efbb-4266-95a4-d9736ccc56c3",
   "metadata": {},
   "outputs": [
    {
     "data": {
      "text/plain": [
       "True"
      ]
     },
     "execution_count": 4,
     "metadata": {},
     "output_type": "execute_result"
    }
   ],
   "source": [
    "#Check if the string starts with a particular letter\n",
    "def check_string_start(string, start_letter):\n",
    "    return True if string[0] == start_letter else False\n",
    "\n",
    "# Using Lambda function\n",
    "check_string_start_lambda = lambda string, start_letter: True if string[0] == start_letter else False\n",
    "check_string_start(\"Hello\", \"H\")"
   ]
  },
  {
   "cell_type": "code",
   "execution_count": 7,
   "id": "d1aa238d-4db1-4a13-8e7b-1fa041e40f2b",
   "metadata": {},
   "outputs": [
    {
     "data": {
      "text/plain": [
       "True"
      ]
     },
     "execution_count": 7,
     "metadata": {},
     "output_type": "execute_result"
    }
   ],
   "source": [
    "#Check if the string is numeric\n",
    "def check_string_numeric(string):\n",
    "    return True if string.isdigit() else False\n",
    "\n",
    "# Using Lambda function\n",
    "check_string_numeric_lambda = lambda string: True if string.isdigit() else False\n",
    "check_string_numeric(\"123\")"
   ]
  },
  {
   "cell_type": "code",
   "execution_count": 9,
   "id": "f1dcdd06-0e2b-4ae5-b0cd-1148e24970cb",
   "metadata": {},
   "outputs": [
    {
     "name": "stdout",
     "output_type": "stream",
     "text": [
      "[('orange', 80), ('mango', 99), ('grapes', 1000)]\n",
      "[('orange', 80), ('mango', 99), ('grapes', 1000)]\n"
     ]
    }
   ],
   "source": [
    "#Sort a list of tuples having fruit names and their quantity\n",
    "fruits = [(\"mango\",99),(\"orange\",80), (\"grapes\", 1000)]\n",
    "\n",
    "# Using Lambda function\n",
    "sorted_fruits = sorted(fruits, key=lambda x: x[1])\n",
    "print(sorted_fruits)\n",
    "# Using List Comprehension\n",
    "sorted_fruits_lc = [fruit for fruit in sorted(fruits, key=lambda x: x[1])]\n",
    "print(sorted_fruits_lc)"
   ]
  },
  {
   "cell_type": "code",
   "execution_count": 10,
   "id": "e43e4131-9a7c-4913-bf9f-bc438fa69150",
   "metadata": {},
   "outputs": [
    {
     "name": "stdout",
     "output_type": "stream",
     "text": [
      "[1, 4, 9, 16, 25, 36, 49, 64, 81, 100]\n",
      "[1, 4, 9, 16, 25, 36, 49, 64, 81, 100]\n"
     ]
    }
   ],
   "source": [
    "#Find the squares of numbers from 1 to 10\n",
    "# Using Map function\n",
    "squared_numbers = list(map(lambda x: x**2, range(1, 11)))\n",
    "print(squared_numbers)\n",
    "# Using List Comprehension\n",
    "squared_numbers_lc = [x**2 for x in range(1, 11)]\n",
    "print(squared_numbers_lc)"
   ]
  },
  {
   "cell_type": "code",
   "execution_count": 11,
   "id": "f3ea6453-de5f-4952-a15d-76b2e613b538",
   "metadata": {},
   "outputs": [
    {
     "name": "stdout",
     "output_type": "stream",
     "text": [
      "[1.0, 1.2599210498948732, 1.4422495703074083, 1.5874010519681994, 1.7099759466766968, 1.8171205928321397, 1.912931182772389, 2.0, 2.080083823051904, 2.154434690031884]\n",
      "[1.0, 1.2599210498948732, 1.4422495703074083, 1.5874010519681994, 1.7099759466766968, 1.8171205928321397, 1.912931182772389, 2.0, 2.080083823051904, 2.154434690031884]\n"
     ]
    }
   ],
   "source": [
    "#Find the cube root of numbers from 1 to 10\n",
    "# Using Map function\n",
    "cuberoot_numbers = list(map(lambda x: x**(1/3), range(1, 11)))\n",
    "print(cuberoot_numbers)\n",
    "# Using List Comprehension\n",
    "cuberoot_numbers_lc = [x**(1/3) for x in range(1, 11)]\n",
    "print(cuberoot_numbers_lc)"
   ]
  },
  {
   "cell_type": "code",
   "execution_count": 21,
   "id": "de16cadb-8382-4eee-85c0-dd9745efc221",
   "metadata": {},
   "outputs": [
    {
     "name": "stdout",
     "output_type": "stream",
     "text": [
      "True\n"
     ]
    }
   ],
   "source": [
    "#Check if a given number is even\n",
    "# Using Lambda function\n",
    "is_even_lambda = lambda number: True if number % 2 == 0 else False\n",
    "print(is_even_lambda(6))"
   ]
  },
  {
   "cell_type": "code",
   "execution_count": 22,
   "id": "c77279b2-ce8f-49a8-8cdb-db76afde164b",
   "metadata": {},
   "outputs": [
    {
     "name": "stdout",
     "output_type": "stream",
     "text": [
      "[1, 3, 5, 7, 9]\n"
     ]
    }
   ],
   "source": [
    "#Filter odd numbers from the given list\n",
    "numbers = [1,2,3,4,5,6,7,8,9,10]\n",
    "\n",
    "# Using Filter function\n",
    "odd_numbers = list(filter(lambda x: x % 2 != 0, numbers))\n",
    "print(odd_numbers)\n"
   ]
  },
  {
   "cell_type": "code",
   "execution_count": 24,
   "id": "598d8ca9-540e-45d9-a4c4-376fbab39555",
   "metadata": {},
   "outputs": [
    {
     "name": "stdout",
     "output_type": "stream",
     "text": [
      "[1, 2, 3, 4, 5, 6]\n",
      "[-1, -2, -3, -4, -5]\n"
     ]
    }
   ],
   "source": [
    "#Sort a list of integers into positive and negative integers lists\n",
    "numbers = [1,2,3,4,5,6,-1,-2,-3,-4,-5,0]\n",
    "\n",
    "# Using List Comprehension\n",
    "positive_numbers = [x for x in numbers if x > 0]\n",
    "negative_numbers = [x for x in numbers if x < 0]\n",
    "print(positive_numbers)\n",
    "print(negative_numbers)"
   ]
  },
  {
   "cell_type": "code",
   "execution_count": null,
   "id": "c040898c-e0d7-4051-bd9b-39c006a11873",
   "metadata": {},
   "outputs": [],
   "source": []
  }
 ],
 "metadata": {
  "kernelspec": {
   "display_name": "Python 3 (ipykernel)",
   "language": "python",
   "name": "python3"
  },
  "language_info": {
   "codemirror_mode": {
    "name": "ipython",
    "version": 3
   },
   "file_extension": ".py",
   "mimetype": "text/x-python",
   "name": "python",
   "nbconvert_exporter": "python",
   "pygments_lexer": "ipython3",
   "version": "3.10.8"
  }
 },
 "nbformat": 4,
 "nbformat_minor": 5
}
